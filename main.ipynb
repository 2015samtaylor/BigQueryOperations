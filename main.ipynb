{
 "cells": [
  {
   "cell_type": "code",
   "execution_count": null,
   "metadata": {},
   "outputs": [],
   "source": [
    "%load_ext autoreload\n",
    "%autoreload 2\n",
    "import json \n",
    "import pysftp\n",
    "import os\n",
    "import pandas_gbq\n",
    "import pandas as pd\n",
    "from modules.buckets import *\n",
    "from modules.reproducibility import *\n",
    "from modules.sftp_operations import *\n",
    "import logging\n",
    "\n",
    "#Configure loggging\n",
    "logging.basicConfig(filename='BigQuery.log', level=logging.INFO,\n",
    "                   format='%(asctime)s - %(message)s', datefmt='%d-%b-%y %H:%M:%S')\n",
    "logging.info('\\n\\n-------------New Big Query Logging Instance')\n",
    "\n",
    "# Set the GOOGLE_APPLICATION_CREDENTIALS environment variable in order to interact, import the SFTP password from the same file\n",
    "os.environ[\"GOOGLE_APPLICATION_CREDENTIALS\"] = 'powerschool-420113-db919282054b.json'\n",
    "with open('powerschool-420113-db919282054b.json') as json_file:\n",
    "    j = json.load(json_file) \n",
    "    sftp_pass = j['sftp_password']\n",
    "    \n",
    "# ----------------------------------------------------------\n",
    "#Need to make this portion to where it assesses all files in the dir recursively. \n",
    "def main(SFTP_folder_name):\n",
    "\n",
    "    SFTP_folder_name  = initial_schema_check(SFTP_folder_name)\n",
    "    print(SFTP_folder_name)\n",
    "\n",
    "    instance = Create(\n",
    "                project_id='powerschool-420113',\n",
    "                location = 'us-south1',\n",
    "                bucket=f'{SFTP_folder_name}bucket-iotaschools-1',\n",
    "                local_dir = fr'S:\\SFTP\\{SFTP_folder_name}',\n",
    "                db = SFTP_folder_name,\n",
    "                append_or_replace='replace',\n",
    "                )\n",
    "    \n",
    "    instance.process()# Pass SFTP files into Bucket & then into Big Query tables\n",
    "\n",
    "\n",
    "#Grab file from Clevers SFTP and replicate into PowerSchool dir\n",
    "sftp_folder_name = 'powerschool'\n",
    "local_dir = r'C:\\Users\\samuel.taylor\\OneDrive - Green Dot Public Schools\\Desktop\\temp'\n",
    "SFTP_conn(sftp_folder_name, sftp, use_pool=True)\n",
    "\n",
    "\n",
    "\n",
    "#Populate the SFTP folders into GCP\n",
    "main(\"powerschool\")\n",
    "main(\"EIS\")"
   ]
  },
  {
   "cell_type": "code",
   "execution_count": 2,
   "metadata": {},
   "outputs": [
    {
     "name": "stdout",
     "output_type": "stream",
     "text": [
      "The autoreload extension is already loaded. To reload it, use:\n",
      "  %reload_ext autoreload\n",
      "Logging setup succesful\n",
      "Trying to download remote file: idm-sensitive-exports\\google-powerschool-students-passwords.csv to local path: C:\\powerschool\\google-powerschool-students-passwords.csv\n",
      "Trying to download remote file: idm-sensitive-exports\\google-students-passwords.csv to local path: C:\\powerschool\\google-students-passwords.csv\n"
     ]
    }
   ],
   "source": [
    "%load_ext autoreload\n",
    "%autoreload 2\n",
    "\n",
    "import pandas as pd\n",
    "from modules.buckets import *\n",
    "from modules.reproducibility import *\n",
    "from modules.sftp_operations import *\n",
    "import logging\n",
    "\n",
    "clear_logging_handlers()\n",
    "\n",
    "try:\n",
    "    #Configure loggging\n",
    "    logging.basicConfig(filename='BigQuery.log', level=logging.INFO,\n",
    "                    format='%(asctime)s - %(message)s', datefmt='%d-%b-%y %H:%M:%S')\n",
    "    logging.info('\\n\\n-------------New Big Query Logging Instance')\n",
    "    print('Logging setup succesful')\n",
    "except Exception as e:\n",
    "    print(f'Error setting up logging: {e}')\n",
    "\n",
    "\n",
    "sftp = SFTPConnection(\n",
    "    host='reports-sftp.clever.com',\n",
    "    username='honorable-chair-4822',\n",
    "    password='f7dc8316952624a1adbbe7f9',\n",
    "    cnopts=cnopts,\n",
    "    max_connections=5\n",
    ")\n",
    "\n",
    "\n",
    "sftp_folder_name = 'idm-sensitive-exports'\n",
    "SFTP_conn(sftp_folder_name, sftp, use_pool=False)\n",
    "sftp.close_all_connections()\n",
    "\n",
    "#Change it to get specific file in the folder. \n",
    "#Isolate this from the process\n",
    "#Create a new \n",
    "\n",
    "\n",
    "#This gets labeled as idm-sensitive-exports. \n",
    "#Need an override name. to write to the local file_path\n",
    "\n",
    "#Only thing that needs to change is local_dir"
   ]
  },
  {
   "cell_type": "code",
   "execution_count": 12,
   "metadata": {},
   "outputs": [
    {
     "name": "stdout",
     "output_type": "stream",
     "text": [
      "Current Directory: c:\\Users\\samuel.taylor\\OneDrive - Green Dot Public Schools\\Desktop\\Git_Directory\\BigQueryConn_TN\n"
     ]
    }
   ],
   "source": [
    "import logging\n",
    "import os\n",
    "\n",
    "# Print current working directory to verify the location\n",
    "print(\"Current Directory:\", os.getcwd())\n",
    "\n",
    "# Remove any existing logging handlers\n",
    "for handler in logging.root.handlers[:]:\n",
    "    logging.root.removeHandler(handler)\n",
    "\n",
    "try:\n",
    "    # Configure logging\n",
    "    logging.basicConfig(filename='Temp.log', level=logging.INFO,\n",
    "                       format='%(asctime)s - %(message)s', datefmt='%d-%b-%y %H:%M:%S')\n",
    "    logging.info('\\n\\n-------------New Big Query Logging Instance')\n",
    "\n",
    "    # Flush the log to ensure it gets written\n",
    "    logging.shutdown()\n",
    "except Exception as e:\n",
    "    print(f'Error setting up logging: {e}')\n"
   ]
  }
 ],
 "metadata": {
  "kernelspec": {
   "display_name": "base",
   "language": "python",
   "name": "python3"
  },
  "language_info": {
   "codemirror_mode": {
    "name": "ipython",
    "version": 3
   },
   "file_extension": ".py",
   "mimetype": "text/x-python",
   "name": "python",
   "nbconvert_exporter": "python",
   "pygments_lexer": "ipython3",
   "version": "3.9.7"
  }
 },
 "nbformat": 4,
 "nbformat_minor": 2
}
