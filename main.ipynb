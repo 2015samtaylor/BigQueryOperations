{
 "cells": [
  {
   "cell_type": "code",
   "execution_count": 1,
   "metadata": {},
   "outputs": [
    {
     "name": "stdout",
     "output_type": "stream",
     "text": [
      "powerschool\n",
      "\n",
      "\n",
      "Bucket powerschoolbucket-iotaschools-1 already exists.\n",
      "Local File S:\\SFTP\\powerschool\\Students_export.txt was uploaded as a new file Students_export.txt in the bucket powerschoolbucket-iotaschools-1.\n",
      "Local File S:\\SFTP\\powerschool\\Student_Records.csv was uploaded as a new file Student_Records.csv in the bucket powerschoolbucket-iotaschools-1.\n",
      "powerschoolbucket-iotaschools-1\n",
      "Attempting to create table powerschool-420113.powerschool.Student_Records and send data for the first time\n",
      "Attempting to create table powerschool-420113.powerschool.Students_export and send data for the first time\n",
      "eis\n",
      "\n",
      "\n",
      "Bucket eisbucket-iotaschools-1 already exists.\n",
      "Local File S:\\SFTP\\eis\\EIS_prior_schools.csv was uploaded as a new file EIS_prior_schools.csv in the bucket eisbucket-iotaschools-1.\n",
      "eisbucket-iotaschools-1\n",
      "Attempting to create table powerschool-420113.eis.EIS_prior_schools and send data for the first time\n"
     ]
    }
   ],
   "source": [
    "%load_ext autoreload\n",
    "%autoreload 2\n",
    "import json \n",
    "import pysftp\n",
    "import os\n",
    "import pandas_gbq\n",
    "import pandas as pd\n",
    "from modules.buckets import *\n",
    "from modules.reproducibility import *\n",
    "import logging\n",
    "\n",
    "#Configure loggging\n",
    "logging.basicConfig(filename='BigQuery.log', level=logging.INFO,\n",
    "                   format='%(asctime)s - %(message)s', datefmt='%d-%b-%y %H:%M:%S')\n",
    "logging.info('\\n\\n-------------New Big Query Logging Instance')\n",
    "\n",
    "# Set the GOOGLE_APPLICATION_CREDENTIALS environment variable in order to interact, import the SFTP password from the same file\n",
    "os.environ[\"GOOGLE_APPLICATION_CREDENTIALS\"] = 'powerschool-420113-db919282054b.json'\n",
    "with open('powerschool-420113-db919282054b.json') as json_file:\n",
    "    j = json.load(json_file) \n",
    "    sftp_pass = j['sftp_password']\n",
    "    \n",
    "# ----------------------------------------------------------\n",
    "#Need to make this portion to where it assesses all files in the dir recursively. \n",
    "def main(SFTP_folder_name):\n",
    "\n",
    "    SFTP_folder_name  = initial_schema_check(SFTP_folder_name)\n",
    "    print(SFTP_folder_name)\n",
    "\n",
    "    instance = Create(\n",
    "                project_id='powerschool-420113',\n",
    "                location = 'us-south1',\n",
    "                bucket=f'{SFTP_folder_name}bucket-iotaschools-1',\n",
    "                local_dir = fr'S:\\SFTP\\{SFTP_folder_name}',\n",
    "                db = SFTP_folder_name,\n",
    "                append_or_replace='replace',\n",
    "                )\n",
    "    \n",
    "    instance.process()# Pass SFTP files into Bucket & then into Big Query tables\n",
    "\n",
    "\n",
    "\n",
    "main(\"powerschool\")\n",
    "main(\"EIS\")"
   ]
  },
  {
   "cell_type": "code",
   "execution_count": 6,
   "metadata": {},
   "outputs": [
    {
     "name": "stdout",
     "output_type": "stream",
     "text": [
      "Students_export.txt\n",
      "Student_Records.csv\n"
     ]
    }
   ],
   "source": [
    "SFTP_folder_name = 'powerschool'\n",
    "local_dir = fr'S:\\SFTP\\{SFTP_folder_name}'\n",
    "\n",
    "for filename in os.listdir(local_dir):\n",
    "    local_file_path = if os.path.isfile(os.path.join(local_dir, filename)):\n",
    "    upload_to_bucket(filename, local_file_path, bucket_name)\n",
    "\n",
    "\n",
    "# def upload_all_files_to_bucket(local_dir, bucket_name):\n",
    "\n",
    "#     for filename in os.listdir(local_dir):\n",
    "#         # if os.path.isfile(os.path.join(filename)):  #'S:\\\\SFTP\\\\\\\\powerschool'\n",
    "#             upload_to_bucket(filename, os.path.join(filename), bucket_name)"
   ]
  }
 ],
 "metadata": {
  "kernelspec": {
   "display_name": "base",
   "language": "python",
   "name": "python3"
  },
  "language_info": {
   "codemirror_mode": {
    "name": "ipython",
    "version": 3
   },
   "file_extension": ".py",
   "mimetype": "text/x-python",
   "name": "python",
   "nbconvert_exporter": "python",
   "pygments_lexer": "ipython3",
   "version": "3.12.3"
  }
 },
 "nbformat": 4,
 "nbformat_minor": 2
}
