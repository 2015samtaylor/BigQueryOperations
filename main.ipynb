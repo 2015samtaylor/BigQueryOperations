{
 "cells": [
  {
   "cell_type": "code",
   "execution_count": 4,
   "metadata": {},
   "outputs": [
    {
     "name": "stdout",
     "output_type": "stream",
     "text": [
      "The autoreload extension is already loaded. To reload it, use:\n",
      "  %reload_ext autoreload\n",
      "Dir contents:  ['Student_Records.csv', 'Students_export.txt']\n",
      "\n",
      "\n",
      "Bucket powerschoolbucket-iotaschools-1 already exists.\n",
      "File Students_export.txt in bucket powerschoolbucket-iotaschools-1 was overwritten by local file SFTP_folders\\powerschool\\Students_export.txt.\n",
      "File Student_Records.csv in bucket powerschoolbucket-iotaschools-1 was overwritten by local file SFTP_folders\\powerschool\\Student_Records.csv.\n",
      "Table powerschool-420113.powerschool.Student_Records already exists, argument is being called to REPLACE new data with incoming data\n"
     ]
    },
    {
     "name": "stderr",
     "output_type": "stream",
     "text": [
      "100%|██████████| 1/1 [00:00<?, ?it/s]\n"
     ]
    },
    {
     "name": "stdout",
     "output_type": "stream",
     "text": [
      "Table powerschool-420113.powerschool.Students_export already exists, argument is being called to REPLACE new data with incoming data\n"
     ]
    },
    {
     "name": "stderr",
     "output_type": "stream",
     "text": [
      "100%|██████████| 1/1 [00:00<00:00, 997.69it/s]\n"
     ]
    }
   ],
   "source": [
    "%load_ext autoreload\n",
    "%autoreload 2\n",
    "\n",
    "import json \n",
    "import pysftp\n",
    "import os\n",
    "import pandas_gbq\n",
    "import pandas as pd\n",
    "from modules.buckets import *\n",
    "from modules.reproducibility import *\n",
    "import logging\n",
    "\n",
    "#Configure loggging\n",
    "logging.basicConfig(filename='BigQuery.log', level=logging.INFO,\n",
    "                   format='%(asctime)s - %(message)s', datefmt='%d-%b-%y %H:%M:%S')\n",
    "logging.info('\\n\\n-------------New Big Query Logging Instance')\n",
    "\n",
    "# Set the GOOGLE_APPLICATION_CREDENTIALS environment variable in order to interact, import the SFTP password from the same file\n",
    "os.environ[\"GOOGLE_APPLICATION_CREDENTIALS\"] = 'powerschool-420113-db919282054b.json'\n",
    "with open('powerschool-420113-db919282054b.json') as json_file:\n",
    "    j = json.load(json_file) \n",
    "    sftp_pass = j['sftp_password']\n",
    "    \n",
    "# ----------------------------------------------------------\n",
    "#Need to make this portion to where it assesses all files in the dir recursively. \n",
    "def main(SFTP_folder_name):\n",
    "\n",
    "    instance = Create(\n",
    "                project_id='powerschool-420113',\n",
    "                location = 'us-south1',\n",
    "                bucket=f'{SFTP_folder_name}bucket-iotaschools-1',\n",
    "                local_dir = f'SFTP_folders\\\\{SFTP_folder_name}',\n",
    "                db = SFTP_folder_name,\n",
    "                table_name = 'ps_students',\n",
    "                append_or_replace='replace',\n",
    "                )\n",
    "\n",
    "    SFTP_conn(sftp_pass, SFTP_folder_name) #Replicate SFTP folder onto local dir\n",
    "    instance.process()#Replicate local dir into Buckets, pass dir filesinto Bucket & finally into Big Query tables\n",
    "\n",
    "\n",
    "main('powerschool')"
   ]
  }
 ],
 "metadata": {
  "kernelspec": {
   "display_name": "base",
   "language": "python",
   "name": "python3"
  },
  "language_info": {
   "codemirror_mode": {
    "name": "ipython",
    "version": 3
   },
   "file_extension": ".py",
   "mimetype": "text/x-python",
   "name": "python",
   "nbconvert_exporter": "python",
   "pygments_lexer": "ipython3",
   "version": "3.9.7"
  }
 },
 "nbformat": 4,
 "nbformat_minor": 2
}
